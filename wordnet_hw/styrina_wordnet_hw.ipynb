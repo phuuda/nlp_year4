{
 "cells": [
  {
   "cell_type": "markdown",
   "metadata": {},
   "source": [
    "#### 1) Найти все значения (синсеты) для лексемы yard"
   ]
  },
  {
   "cell_type": "code",
   "execution_count": 20,
   "metadata": {},
   "outputs": [
    {
     "name": "stdout",
     "output_type": "stream",
     "text": [
      "Synset('yard.n.01') a unit of length equal to 3 feet; defined as 91.44 centimeters; originally taken to be the average length of a stride\n",
      "Synset('yard.n.02') the enclosed land around a house or other building\n",
      "Synset('yard.n.03') a tract of land enclosed for particular activities (sometimes paved and usually associated with buildings)\n",
      "Synset('thousand.n.01') the cardinal number that is the product of 10 and 100\n",
      "Synset('cubic_yard.n.01') a unit of volume (as for sand or gravel)\n",
      "Synset('yard.n.06') a tract of land where logs are accumulated\n",
      "Synset('yard.n.07') an area having a network of railway tracks and sidings for storage and maintenance of cars and engines\n",
      "Synset('yard.n.08') a long horizontal spar tapered at the end and used to support and spread a square sail or lateen\n",
      "Synset('yard.n.09') an enclosure for animals (as chicken or livestock)\n"
     ]
    }
   ],
   "source": [
    "from nltk.corpus import wordnet\n",
    "\n",
    "for ss in wordnet.synsets('yard'):\n",
    "    print(ss, ss.definition())"
   ]
  },
  {
   "cell_type": "markdown",
   "metadata": {},
   "source": [
    "#### 2) Найти определение для лексемы plant в значении (а) \"ярд\" и в значении (b) \"дворик при здании\""
   ]
  },
  {
   "cell_type": "code",
   "execution_count": 2,
   "metadata": {},
   "outputs": [
    {
     "data": {
      "text/plain": [
       "'a unit of length equal to 3 feet; defined as 91.44 centimeters; originally taken to be the average length of a stride'"
      ]
     },
     "execution_count": 2,
     "metadata": {},
     "output_type": "execute_result"
    }
   ],
   "source": [
    "set1 = wordnet.synset('yard.n.01')\n",
    "set1.definition()"
   ]
  },
  {
   "cell_type": "code",
   "execution_count": 10,
   "metadata": {},
   "outputs": [
    {
     "data": {
      "text/plain": [
       "'the enclosed land around a house or other building'"
      ]
     },
     "execution_count": 10,
     "metadata": {},
     "output_type": "execute_result"
    }
   ],
   "source": [
    "set2 = wordnet.synset('yard.n.02')\n",
    "set2.definition()"
   ]
  },
  {
   "cell_type": "markdown",
   "metadata": {},
   "source": [
    "#### 3) Найдите два произвольных контекста для слова yard в значениях (a) \"ярд\" и (b) \"дворик при здании\"; продемонстрируйте на них действие алгоритма Леска для разрешения неоднозначности"
   ]
  },
  {
   "cell_type": "code",
   "execution_count": 18,
   "metadata": {},
   "outputs": [
    {
     "data": {
      "text/plain": [
       "'an area having a network of railway tracks and sidings for storage and maintenance of cars and engines'"
      ]
     },
     "execution_count": 18,
     "metadata": {},
     "output_type": "execute_result"
    }
   ],
   "source": [
    "from nltk.wsd import lesk\n",
    "\n",
    "context1 = ['I', 'had', 'a', 'left', 'over', 'yard', 'of', 'cloth', 'from', 'my', 'chair', 'reupholster', '.']\n",
    "lesk(context1, 'yard', 'n').definition()\n",
    "\n",
    "# chooses wrong definition!"
   ]
  },
  {
   "cell_type": "code",
   "execution_count": 19,
   "metadata": {},
   "outputs": [
    {
     "data": {
      "text/plain": [
       "'the enclosed land around a house or other building'"
      ]
     },
     "execution_count": 19,
     "metadata": {},
     "output_type": "execute_result"
    }
   ],
   "source": [
    "context2 = ['Please', 'do', 'not', 'park', 'on', 'the', 'grass', 'in', 'the', 'yard', 'by', 'the', 'house', '.']\n",
    "lesk(context2, 'yard', 'n').definition()"
   ]
  },
  {
   "cell_type": "markdown",
   "metadata": {},
   "source": [
    "#### 4) Найдите гиперонимы для значения (a) и гиперонимы для значения (b)"
   ]
  },
  {
   "cell_type": "code",
   "execution_count": 26,
   "metadata": {},
   "outputs": [
    {
     "name": "stdout",
     "output_type": "stream",
     "text": [
      "Synset('linear_unit.n.01') a unit of measurement of length\n"
     ]
    }
   ],
   "source": [
    "set1 = wordnet.synset('yard.n.01')\n",
    "\n",
    "\n",
    "for hyper in wordnet.synsets('yard')[0].hypernyms():\n",
    "        print(hyper, hyper.definition())\n"
   ]
  },
  {
   "cell_type": "code",
   "execution_count": 23,
   "metadata": {},
   "outputs": [
    {
     "name": "stdout",
     "output_type": "stream",
     "text": [
      "Synset('field.n.01') a piece of land cleared of trees and usually enclosed\n"
     ]
    }
   ],
   "source": [
    "set2 = wordnet.synset('yard.n.02')\n",
    "\n",
    "for hyper in wordnet.synsets('yard')[1].hypernyms():\n",
    "        print(hyper, hyper.definition())\n"
   ]
  },
  {
   "cell_type": "raw",
   "metadata": {},
   "source": []
  },
  {
   "cell_type": "markdown",
   "metadata": {},
   "source": [
    "#### 5) Вычислите наименьшее расстояние между значением yard \"ярд\" и значениями лексемы inch, а также yard \"дворик\" и значениями лексемы garden\n",
    "\n",
    "Найти min ( d(yard: \"ярд\", inch), d(yard: \"ярд\", garden) ),\n",
    "\n",
    "а также min (d(yard: \"дворик\", inch), d(yard: \"дворик\", garden))"
   ]
  },
  {
   "cell_type": "code",
   "execution_count": 32,
   "metadata": {},
   "outputs": [
    {
     "name": "stdout",
     "output_type": "stream",
     "text": [
      "Synset('inch.n.01') a unit of length equal to one twelfth of a foot\n",
      "Synset('column_inch.n.01') a unit of measurement for advertising space\n",
      "Synset('edge.v.01') advance slowly, as if by inches\n",
      "\n",
      "\n",
      "Synset('garden.n.01') a plot of ground where plants are cultivated\n",
      "Synset('garden.n.02') the flowers or vegetables or fruits or herbs that are cultivated in a garden\n",
      "Synset('garden.n.03') a yard or lawn adjoining a house\n",
      "Synset('garden.v.01') work in the garden\n",
      "\n",
      "\n",
      "min d(yard: \"ярд\", inch): 2\n",
      "closest lemma definition: the people or companies engaged in a particular kind of commercial enterprise\n",
      "\n",
      "min d(yard: \"ярд\", garden): 9\n",
      "closest lemma definition: a sheet of any written or printed material (especially in a manuscript or book)\n",
      "\n",
      "min d(yard: \"дворик\", inch): 14\n",
      "closest lemma definition: the people or companies engaged in a particular kind of commercial enterprise\n",
      "\n",
      "min d(yard: \"дворик\", garden): 1\n",
      "closest lemma definition: hinged or detachable flat section (as of a table or door)\n",
      "\n",
      "min (d(yard: \"ярд\", inch), d(yard: \"ярд\", garden)): 2\n",
      "min (d(yard: \"дворик\", inch), d(yard: \"дворик\", garden)): 1\n"
     ]
    }
   ],
   "source": [
    "yard = wordnet.synsets('yard')\n",
    "\n",
    "inch = wordnet.synsets('inch')\n",
    "for ss in wordnet.synsets('inch'):\n",
    "    print(ss, ss.definition())\n",
    "print('\\n')\n",
    "\n",
    "garden = wordnet.synsets('garden')\n",
    "for ss in wordnet.synsets('garden'):\n",
    "    print(ss, ss.definition())\n",
    "print('\\n')\n",
    "\n",
    "def get_dist_sim(ss1, lexeme):\n",
    "    distances = []\n",
    "    similarities = []\n",
    "    for ss2 in lexeme:\n",
    "        dist = ss1.shortest_path_distance(ss2)\n",
    "        if dist is not None:\n",
    "            distances.append(dist)\n",
    "            sim = ss1.path_similarity(ss2)\n",
    "            similarities.append(sim)\n",
    "    return distances, similarities\n",
    "\n",
    "\n",
    "# min d(yard: \"ярд\", inch)\n",
    "dist1 = get_dist_sim(yard[0], inch)[0]\n",
    "print('min d(yard: \"ярд\", inch): {}'.format(min(dist1)))\n",
    "print('closest lemma definition: {}\\n'.format(industry[dist1.index(min(dist1))].definition()))\n",
    "\n",
    "# min d(yard: \"ярд\", garden)\n",
    "dist2 = get_dist_sim(yard[0], garden)[0]\n",
    "print('min d(yard: \"ярд\", garden): {}'.format(min(dist2)))\n",
    "print('closest lemma definition: {}\\n'.format(leaf[dist2.index(min(dist2))].definition()))\n",
    "\n",
    "# min d(yard: \"дворик\", inch)\n",
    "dist3 = get_dist_sim(yard[1], inch)[0]\n",
    "print('min d(yard: \"дворик\", inch): {}'.format(min(dist3)))\n",
    "print('closest lemma definition: {}\\n'.format(industry[dist3.index(min(dist3))].definition()))\n",
    "\n",
    "# min d(yard: \"дворик\", garden)\n",
    "dist4 = get_dist_sim(yard[1], garden)[0]\n",
    "print('min d(yard: \"дворик\", garden): {}'.format(min(dist4)))\n",
    "print('closest lemma definition: {}\\n'.format(leaf[dist4.index(min(dist4))].definition()))\n",
    "\n",
    "print('min (d(yard: \"ярд\", inch), d(yard: \"ярд\", garden)): {}'.format(min(min(dist1), min(dist2))))\n",
    "print('min (d(yard: \"дворик\", inch), d(yard: \"дворик\", garden)): {}'.format(min(min(dist3), min(dist4))))\n"
   ]
  },
  {
   "cell_type": "markdown",
   "metadata": {},
   "source": [
    "Расстояние от 'ярда' до 'дюйма' = 2, что кажется appropriately small, но смущает closest lemma definition.\n",
    "\n",
    "От 'ярда' до 'сада' расстояние = 9, что кажется fittingly long. \n",
    "\n",
    "От 'дворика' до 'ярда' расстояние = 14, что на удивление больше чем 9, хотя сад (garden) и дворик (yard) довольно близки по значению.\n",
    "\n",
    "Расстояние от 'дворика' до 'дюйма' = 1, оно близко к расстоянию между 'ярдом' и 'дюймом', which makes sense given the similarity of 'inch' & 'yard'(ярд), and 'yard'(дворик) & 'garden'.\n",
    "\n"
   ]
  },
  {
   "cell_type": "code",
   "execution_count": null,
   "metadata": {
    "collapsed": true
   },
   "outputs": [],
   "source": []
  }
 ],
 "metadata": {
  "kernelspec": {
   "display_name": "Python 3",
   "language": "python",
   "name": "python3"
  },
  "language_info": {
   "codemirror_mode": {
    "name": "ipython",
    "version": 3
   },
   "file_extension": ".py",
   "mimetype": "text/x-python",
   "name": "python",
   "nbconvert_exporter": "python",
   "pygments_lexer": "ipython3",
   "version": "3.6.1"
  }
 },
 "nbformat": 4,
 "nbformat_minor": 2
}
