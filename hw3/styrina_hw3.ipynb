{
 "cells": [
  {
   "cell_type": "code",
   "execution_count": 2,
   "metadata": {},
   "outputs": [],
   "source": [
    "import nltk\n",
    "from nltk.collocations import *\n",
    "import pymorphy2\n",
    "\n",
    "bigram_measures = nltk.collocations.BigramAssocMeasures()\n",
    "trigram_measures = nltk.collocations.TrigramAssocMeasures()\n",
    "\n",
    "morph = pymorphy2.MorphAnalyzer()\n",
    "punct = '.,!?():;'\n"
   ]
  },
  {
   "cell_type": "code",
   "execution_count": 38,
   "metadata": {},
   "outputs": [],
   "source": [
    "words = [word.strip(punct) for word in open('court-V-N.csv').read().split()]\n",
    "words_tagged = [morph.parse(word)[0].normal_form for word in words]\n",
    "words_tagged = [x for x in words_tagged if x] # remove empty strings\n"
   ]
  },
  {
   "cell_type": "code",
   "execution_count": 8,
   "metadata": {
    "collapsed": true
   },
   "outputs": [],
   "source": [
    "finder = BigramCollocationFinder.from_words(words_tagged)"
   ]
  },
  {
   "cell_type": "code",
   "execution_count": 9,
   "metadata": {},
   "outputs": [
    {
     "data": {
      "text/plain": [
       "[('арбитраж', 'встретиться'),\n",
       " ('армия', 'восстановиться'),\n",
       " ('аэропорт', 'расторжение'),\n",
       " ('балтика', 'нарушить'),\n",
       " ('банковский', 'комиссия'),\n",
       " ('безоговорочно', 'уступить'),\n",
       " ('бессмысленность', 'мероприятие'),\n",
       " ('бригадир', 'виктор'),\n",
       " ('бытность', 'министр'),\n",
       " ('вкладчик', 'ранний')]"
      ]
     },
     "execution_count": 9,
     "metadata": {},
     "output_type": "execute_result"
    }
   ],
   "source": [
    "finder.nbest(bigram_measures.pmi, 10)"
   ]
  },
  {
   "cell_type": "code",
   "execution_count": 10,
   "metadata": {},
   "outputs": [
    {
     "data": {
      "text/plain": [
       "[('усилить', 'катастрофа'),\n",
       " ('надзорный', 'орган'),\n",
       " ('оператор', 'автомобильный'),\n",
       " ('таможенник', 'недействительный'),\n",
       " ('фактический', 'участник'),\n",
       " ('правота', 'надзорный'),\n",
       " ('прекратить', 'производство'),\n",
       " ('пресечение', 'вид'),\n",
       " ('освободить', 'залог'),\n",
       " ('отказ', 'регистрация')]"
      ]
     },
     "execution_count": 10,
     "metadata": {},
     "output_type": "execute_result"
    }
   ],
   "source": [
    "finder.apply_freq_filter(3)\n",
    "finder.nbest(bigram_measures.pmi, 10)"
   ]
  },
  {
   "cell_type": "code",
   "execution_count": 27,
   "metadata": {},
   "outputs": [
    {
     "data": {
      "text/plain": [
       "['суд суд',\n",
       " 'суд признать',\n",
       " 'выдать санкция',\n",
       " 'суд удовлетворить',\n",
       " 'удовлетворить иск',\n",
       " 'удовлетворить ходатайство',\n",
       " 'принять решение',\n",
       " 'санкция арест',\n",
       " 'мера пресечение',\n",
       " 'наложить арест']"
      ]
     },
     "execution_count": 27,
     "metadata": {},
     "output_type": "execute_result"
    }
   ],
   "source": [
    "stopwords = nltk.corpus.stopwords.words('russian')\n",
    "finder.apply_word_filter(lambda w: len(w) < 3 or w.lower() in stopwords)\n",
    "\n",
    "res1 = finder.nbest(bigram_measures.likelihood_ratio, 10)\n",
    "\n",
    "res_1 = []\n",
    "for res in res1:\n",
    "    res = ' '.join(res)\n",
    "    res_1.append(res)\n",
    "    \n",
    "res_1"
   ]
  },
  {
   "cell_type": "code",
   "execution_count": 26,
   "metadata": {},
   "outputs": [
    {
     "data": {
      "text/plain": [
       "['суд признать',\n",
       " 'суд удовлетворить',\n",
       " 'суд вынести',\n",
       " 'удовлетворить иск',\n",
       " 'принять решение',\n",
       " 'суд принять',\n",
       " 'удовлетворить ходатайство',\n",
       " 'суд отказать',\n",
       " 'суд приговорить',\n",
       " 'суд рассмотреть']"
      ]
     },
     "execution_count": 26,
     "metadata": {},
     "output_type": "execute_result"
    }
   ],
   "source": [
    "res2 = finder.nbest(bigram_measures.student_t, 10)\n",
    "\n",
    "res_2 = []\n",
    "for res in res2:\n",
    "    res = ' '.join(res)\n",
    "    res_2.append(res)\n",
    "    \n",
    "res_2"
   ]
  },
  {
   "cell_type": "code",
   "execution_count": 29,
   "metadata": {},
   "outputs": [
    {
     "data": {
      "text/plain": [
       "['принять решение',\n",
       " 'обратиться суд',\n",
       " 'вынести приговор',\n",
       " 'подать суд',\n",
       " 'вынести решение',\n",
       " 'просить суд',\n",
       " 'удовлетворить иск',\n",
       " 'признать виновный',\n",
       " 'обязать опровергнуть',\n",
       " 'обязать опубликовать']"
      ]
     },
     "execution_count": 29,
     "metadata": {},
     "output_type": "execute_result"
    }
   ],
   "source": [
    "from nltk.metrics.spearman import *\n",
    "\n",
    "with open('golden_standard.txt', 'r', encoding = 'utf-8') as f:\n",
    "    gold = f.read().split('\\n')\n",
    "    \n",
    "gold # золотой стандарт"
   ]
  },
  {
   "cell_type": "code",
   "execution_count": 36,
   "metadata": {},
   "outputs": [
    {
     "name": "stdout",
     "output_type": "stream",
     "text": [
      "-39.0\n",
      "-24.0\n"
     ]
    }
   ],
   "source": [
    "res_1_ranks = list(ranks_from_sequence(res_1)) # likelihood ratio\n",
    "res_2_ranks = list(ranks_from_sequence(res_2)) # student test\n",
    "gold_ranks = list(ranks_from_sequence(gold))\n",
    "\n",
    "print('%0.1f' % spearman_correlation(gold_ranks, res_1_ranks))\n",
    "print('%0.1f' % spearman_correlation(gold_ranks, res_2_ranks))"
   ]
  },
  {
   "cell_type": "markdown",
   "metadata": {},
   "source": [
    "Золотой стандарт был составлен с помощью топ-коллокаций (используя http://corpus.leeds.ac.uk/ruscorpora.html) и проверки их частотности в Google.\n",
    "\n",
    "Топ-10 список res2 (student test) содержал 8/10 полных или частичных (1-словных) совпадений с вхождениями золотого стандарта. \n",
    "\n",
    "Топ-10 список res1 (log likelihood) содержал 5/10 полных или частичных совпадений с золотым стандартом.\n",
    "\n",
    "Единственные полные совпадения в res1 и res2: 'удовлетворить иск' и 'принять решение'.\n",
    "\n",
    "В топ-списке res2 в 7/10 вхождениях одним элементом биграммы является само слово 'суд', видимо из-за того, что (в отличие от log likelihood -- res1) метрика не учитывала, что 'суд' присутствовал в каждой строке файла 'court-V-N.csv'. \n",
    "\n",
    "Интересно, что и в golden standard и в res1 'суд' встретился ровно в 3 биграммах, но это скорее всего просто совпадение.\n",
    "\n",
    "Также можно заметить, что в res2 все результаты -- сочетания VN или NV, тогда так в res1 присутствуют и NP ('санкция арест', 'мера пресечение', 'суд суд'), что не указывает именно на \"действия\".\n",
    "\n",
    "Коэффициент Спирмена также указывает на слабую корреляцию между двумя результатами тестов и золотым стандартом.\n"
   ]
  },
  {
   "cell_type": "code",
   "execution_count": 37,
   "metadata": {},
   "outputs": [
    {
     "data": {
      "text/html": [
       "<img src=\"https://raw.githubusercontent.com/phuuda/nlp_year4/master/hw3/results.png\"/>"
      ],
      "text/plain": [
       "<IPython.core.display.Image object>"
      ]
     },
     "execution_count": 37,
     "metadata": {},
     "output_type": "execute_result"
    }
   ],
   "source": [
    "from IPython.display import Image\n",
    "from IPython.core.display import HTML \n",
    "Image(url= \"https://raw.githubusercontent.com/phuuda/nlp_year4/master/hw3/results.png\")"
   ]
  }
 ],
 "metadata": {
  "kernelspec": {
   "display_name": "Python 3",
   "language": "python",
   "name": "python3"
  },
  "language_info": {
   "codemirror_mode": {
    "name": "ipython",
    "version": 3
   },
   "file_extension": ".py",
   "mimetype": "text/x-python",
   "name": "python",
   "nbconvert_exporter": "python",
   "pygments_lexer": "ipython3",
   "version": "3.6.1"
  }
 },
 "nbformat": 4,
 "nbformat_minor": 2
}
