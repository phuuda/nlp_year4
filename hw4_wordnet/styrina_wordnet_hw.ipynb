{
 "cells": [
  {
   "cell_type": "markdown",
   "metadata": {},
   "source": [
    "#### 1) Найти все значения (синсеты) для лексемы club"
   ]
  },
  {
   "cell_type": "code",
   "execution_count": 1,
   "metadata": {},
   "outputs": [
    {
     "name": "stdout",
     "output_type": "stream",
     "text": [
      "Synset('baseball_club.n.01') a team of professional baseball players who play and travel together\n",
      "Synset('club.n.02') a formal association of people with similar interests\n",
      "Synset('club.n.03') stout stick that is larger at one end\n",
      "Synset('clubhouse.n.01') a building that is occupied by a social club\n",
      "Synset('golf_club.n.02') golf equipment used by a golfer to hit a golf ball\n",
      "Synset('club.n.06') a playing card in the minor suit that has one or more black trefoils on it\n",
      "Synset('cabaret.n.01') a spot that is open late at night and that provides entertainment (as singers or dancers) as well as dancing and food and drink\n",
      "Synset('club.v.01') unite with a common purpose\n",
      "Synset('club.v.02') gather and spend time together\n",
      "Synset('club.v.03') strike with a club or a bludgeon\n",
      "Synset('club.v.04') gather into a club-like mass\n"
     ]
    }
   ],
   "source": [
    "from nltk.corpus import wordnet\n",
    "\n",
    "for ss in wordnet.synsets('club'):\n",
    "    print(ss, ss.definition())"
   ]
  },
  {
   "cell_type": "markdown",
   "metadata": {},
   "source": [
    "#### 2) Найти определение для лексемы club в значении (а) \"клуб\" и в значении (b) \"бита\""
   ]
  },
  {
   "cell_type": "code",
   "execution_count": 2,
   "metadata": {},
   "outputs": [
    {
     "data": {
      "text/plain": [
       "'a building that is occupied by a social club'"
      ]
     },
     "execution_count": 2,
     "metadata": {},
     "output_type": "execute_result"
    }
   ],
   "source": [
    "set1 = wordnet.synset('clubhouse.n.01')\n",
    "set1.definition()"
   ]
  },
  {
   "cell_type": "code",
   "execution_count": 3,
   "metadata": {},
   "outputs": [
    {
     "data": {
      "text/plain": [
       "'stout stick that is larger at one end'"
      ]
     },
     "execution_count": 3,
     "metadata": {},
     "output_type": "execute_result"
    }
   ],
   "source": [
    "set2 = wordnet.synset('club.n.03')\n",
    "set2.definition()"
   ]
  },
  {
   "cell_type": "markdown",
   "metadata": {},
   "source": [
    "#### 3) Найдите два произвольных контекста для слова club в значениях (a) \"клуб\" и (b) \"бита\"; продемонстрируйте на них действие алгоритма Леска для разрешения неоднозначности"
   ]
  },
  {
   "cell_type": "code",
   "execution_count": 83,
   "metadata": {},
   "outputs": [
    {
     "data": {
      "text/plain": [
       "'a building that is occupied by a social club'"
      ]
     },
     "execution_count": 83,
     "metadata": {},
     "output_type": "execute_result"
    }
   ],
   "source": [
    "from nltk.wsd import lesk\n",
    "\n",
    "context1 = 'The club was holding a charity banquet that night.'\n",
    "context1 = context1.split(' ')\n",
    "lesk(context1, 'club', 'n').definition()\n"
   ]
  },
  {
   "cell_type": "code",
   "execution_count": 17,
   "metadata": {},
   "outputs": [
    {
     "data": {
      "text/plain": [
       "'golf equipment used by a golfer to hit a golf ball'"
      ]
     },
     "execution_count": 17,
     "metadata": {},
     "output_type": "execute_result"
    }
   ],
   "source": [
    "context2 = 'The man carried a wooden club that he used to hit people.'\n",
    "context2 = context2.split(' ')\n",
    "lesk(context2, 'club', 'n').definition()\n",
    "\n",
    "# chooses wrong definition!"
   ]
  },
  {
   "cell_type": "markdown",
   "metadata": {},
   "source": [
    "#### 4) Найдите гиперонимы для значения (a) и гиперонимы для значения (b)"
   ]
  },
  {
   "cell_type": "code",
   "execution_count": 18,
   "metadata": {},
   "outputs": [
    {
     "name": "stdout",
     "output_type": "stream",
     "text": [
      "Synset('building.n.01') a structure that has a roof and walls and stands more or less permanently in one place\n"
     ]
    }
   ],
   "source": [
    "set1 = wordnet.synset('clubhouse.n.01')\n",
    "\n",
    "\n",
    "for hyper in wordnet.synsets('club')[3].hypernyms():\n",
    "        print(hyper, hyper.definition())\n"
   ]
  },
  {
   "cell_type": "code",
   "execution_count": 19,
   "metadata": {},
   "outputs": [
    {
     "name": "stdout",
     "output_type": "stream",
     "text": [
      "Synset('stick.n.01') an implement consisting of a length of wood\n"
     ]
    }
   ],
   "source": [
    "set2 = wordnet.synset('club.n.03')\n",
    "\n",
    "for hyper in wordnet.synsets('club')[2].hypernyms():\n",
    "        print(hyper, hyper.definition())\n"
   ]
  },
  {
   "cell_type": "markdown",
   "metadata": {},
   "source": [
    "#### 5) Вычислите наименьшее расстояние между значением сдги \"клуб\" и значениями лексемы establishment, а также club \"бита\" и значениями лексемы end\n",
    "\n",
    "Найти min (d (club: \"клуб\",   establishment),     d(club: \"клуб\",    end) ),\n",
    "\n",
    "а также min (d (club: \"бита\",   establishment),     d(club: \"бита\",   end))\n",
    "\n",
    "Вычислите наименьшее расстояние между значением plant \"завод\" и значениями лексемы industry, а также plant \"растение\" и значениями лексемы leaf.\n",
    "\n"
   ]
  },
  {
   "cell_type": "code",
   "execution_count": 22,
   "metadata": {},
   "outputs": [
    {
     "name": "stdout",
     "output_type": "stream",
     "text": [
      "min d(club: \"клуб\", establishment): 3\n",
      "closest lemma definition: a public or private structure (business or governmental or educational) including buildings and equipment for business or residence\n",
      "\n",
      "min d(club: \"клуб\", end): 6\n",
      "closest lemma definition: a piece of cloth that is left over after the rest has been used or sold\n",
      "\n",
      "min d(club: \"бита\", establishment): 6\n",
      "closest lemma definition: a public or private structure (business or governmental or educational) including buildings and equipment for business or residence\n",
      "\n",
      "min d(club: \"бита\", end): 7\n",
      "closest lemma definition: a piece of cloth that is left over after the rest has been used or sold\n",
      "\n",
      "min (d(club: \"клуб\", establishment), d(club: \"клуб\", tip)): 3\n",
      "min (d(club: \"бита\", establishment), d(club: \"бита\", tip)): 6\n"
     ]
    }
   ],
   "source": [
    "club = wordnet.synsets('club')\n",
    "establishment = wordnet.synsets('establishment')\n",
    "end = wordnet.synsets('end')\n",
    "\n",
    "def get_dist_sim(ss1, lexeme):\n",
    "    distances = []\n",
    "    similarities = []\n",
    "    for ss2 in lexeme:\n",
    "        dist = ss1.shortest_path_distance(ss2)\n",
    "        if dist is not None:\n",
    "            distances.append(dist)\n",
    "            sim = ss1.path_similarity(ss2)\n",
    "            similarities.append(sim)\n",
    "    return distances, similarities\n",
    "\n",
    "\n",
    "# min d (club: \"клуб\", establishment)\n",
    "dist1 = get_dist_sim(club[3], establishment)[0]\n",
    "print('min d(club: \"клуб\", establishment): {}'.format(min(dist1)))\n",
    "print('closest lemma definition: {}\\n'.format(establishment[dist1.index(min(dist1))].definition()))\n",
    "\n",
    "# min d(club: \"клуб\", end)\n",
    "dist2 = get_dist_sim(club[3], end)[0]\n",
    "print('min d(club: \"клуб\", end): {}'.format(min(dist2)))\n",
    "print('closest lemma definition: {}\\n'.format(end[dist2.index(min(dist2))].definition()))\n",
    "\n",
    "# min d (club: \"бита\", establishment)\n",
    "dist3 = get_dist_sim(club[2], establishment)[0]\n",
    "print('min d(club: \"бита\", establishment): {}'.format(min(dist3)))\n",
    "print('closest lemma definition: {}\\n'.format(establishment[dist3.index(min(dist3))].definition()))\n",
    "\n",
    "# min d(club: \"бита\", end)\n",
    "dist4 = get_dist_sim(club[2], end)[0]\n",
    "print('min d(club: \"бита\", end): {}'.format(min(dist4)))\n",
    "print('closest lemma definition: {}\\n'.format(end[dist4.index(min(dist4))].definition()))\n",
    "\n",
    "print('min (d(club: \"клуб\", establishment), d(club: \"клуб\", tip)): {}'.format(min(min(dist1), min(dist2))))\n",
    "print('min (d(club: \"бита\", establishment), d(club: \"бита\", tip)): {}'.format(min(min(dist3), min(dist4))))\n"
   ]
  },
  {
   "cell_type": "markdown",
   "metadata": {},
   "source": [
    "Расстояние от 'клуба' до 'establishment' = 3, что кажется appropriately small.\n",
    "\n",
    "От 'клуба' до 'end' расстояние = 6, что кажется fittingly long. \n",
    "\n",
    "От 'биты' до 'establishment' расстояние = 7, что тоже кажется нормальным, т.к. они на первый взгляд мало связаны.\n",
    "\n",
    "Расстояние от 'биты' до 'end' = 7, что не совсем понятно. Every stick has two ends!\n",
    "\n"
   ]
  },
  {
   "cell_type": "markdown",
   "metadata": {
    "collapsed": true
   },
   "source": [
    "### 6) Вычислить двумя разными способами расстояние:   d(club = 'клуб', restaurant) d(organism, whole)\n",
    "\n",
    "подберите пары слов так, чтобы расстояние между d(organism, whole), было меньше, \n",
    "чем расстояние между Вашим словом и его когипонимом или гиперонимом или непрямым,\n",
    "но близким по семантике (исходя из Вашей интуиции) гиперонимом\n",
    "\n",
    "Есть ли разница в расстояниях?\n",
    "\n",
    "Какое из расстояний, по Вашему мнению, в лучшей степени отражает интуитивное представление о семантчиеской близости слов?"
   ]
  },
  {
   "cell_type": "code",
   "execution_count": 77,
   "metadata": {},
   "outputs": [
    {
     "name": "stdout",
     "output_type": "stream",
     "text": [
      "Synset('court.n.01') an assembly (including one or more judges) to conduct judicial business\n",
      "Synset('court.n.02') a room in which a lawcourt sits\n",
      "Synset('court.n.03') the sovereign and his advisers who are the governing power of a state\n",
      "Synset('court.n.04') a specially marked horizontal area within which a game is played\n",
      "Synset('court.n.05') Australian woman tennis player who won many major championships (born in 1947)\n",
      "Synset('court.n.06') the family and retinue of a sovereign or prince\n",
      "Synset('motor_hotel.n.01') a hotel for motorists; provides direct access from rooms to parking area\n",
      "Synset('court.n.08') a tribunal that is presided over by a magistrate or by one or more judges who administer justice according to the laws\n",
      "Synset('court.n.09') the residence of a sovereign or nobleman\n",
      "Synset('court.n.10') an area wholly or partly surrounded by walls or buildings\n",
      "Synset('court.n.11') respectful deference\n",
      "Synset('woo.v.02') make amorous advances towards\n",
      "Synset('woo.v.01') seek someone's favor\n",
      "Synset('court.v.03') engage in social activities leading to marriage\n",
      "Synset('clubhouse.n.01') a building that is occupied by a social club\n"
     ]
    }
   ],
   "source": [
    "court = wordnet.synsets('court')[1]\n",
    "for r in wordnet.synsets('court'):\n",
    "    print(r, r.definition())\n",
    "    \n",
    "club = wordnet.synset('clubhouse.n.01')\n",
    "print(club, club.definition())"
   ]
  },
  {
   "cell_type": "code",
   "execution_count": 79,
   "metadata": {},
   "outputs": [
    {
     "name": "stdout",
     "output_type": "stream",
     "text": [
      "min (d(organism, whole)): 2\n",
      "min (d(club, court)): 3\n"
     ]
    }
   ],
   "source": [
    "dist1 = get_dist_sim(wordnet.synsets('organism')[0],\n",
    "                     wordnet.synsets('whole', 'n'))[0]\n",
    "\n",
    "dist2 = get_dist_sim(wordnet.synsets('club')[3],\n",
    "                     wordnet.synsets('court'))[0]\n",
    "\n",
    "print('min (d(organism, whole)): {}'.format(min(dist1)))\n",
    "print('min (d(club, court)): {}'.format(min(dist2)))\n",
    "\n"
   ]
  },
  {
   "cell_type": "code",
   "execution_count": 34,
   "metadata": {},
   "outputs": [
    {
     "name": "stdout",
     "output_type": "stream",
     "text": [
      "Synset('organism.n.01') a living thing that has (or can develop) the ability to act or function independently\n",
      "Synset('whole.n.01') all of something including all its component elements or parts\n"
     ]
    }
   ],
   "source": [
    "organism = wordnet.synsets('organism')[0]\n",
    "whole = wordnet.synsets('whole', 'n')[0]\n",
    "\n",
    "print(organism, organism.definition())\n",
    "print(whole, whole.definition())"
   ]
  },
  {
   "cell_type": "code",
   "execution_count": 25,
   "metadata": {
    "collapsed": true
   },
   "outputs": [],
   "source": [
    "from nltk.corpus import wordnet_ic\n",
    "ic = wordnet_ic.ic('ic-brown.dat')"
   ]
  },
  {
   "cell_type": "code",
   "execution_count": 73,
   "metadata": {},
   "outputs": [
    {
     "name": "stdout",
     "output_type": "stream",
     "text": [
      "0.14285714285714285\n",
      "0.07692307692307693\n",
      "\n",
      "\n",
      "0.7058823529411765\n",
      "0.16666666666666666\n"
     ]
    }
   ],
   "source": [
    "# (A score of 1 represents identity i.e.\n",
    "# comparing a sense with itself will return 1)\n",
    "\n",
    "# organism - whole:\n",
    "print(organism.wup_similarity(whole)) # Wu-Palmer Similarity\n",
    "print(organism.path_similarity(whole)) # Path Similarity\n",
    "\n",
    "print('\\n')\n",
    "\n",
    "# club - court:\n",
    "print(club.wup_similarity(court)) # Wu-Palmer Similarity\n",
    "print(club.path_similarity(court, ic)) # Path Similarity"
   ]
  },
  {
   "cell_type": "markdown",
   "metadata": {},
   "source": [
    "Я взяла те толкования 'organism' & 'whole', которые интуитивно наиболее близки друг к другу по семантике (примерно = 'something that has all the components to be considered an independent unit (and could function as such)'). Конечно, 'whole' не содержит в себе ничего про the quality of being alive in any way.\n",
    "</br>\n",
    "\n",
    "'club' & 'court' -- довольно далекие когипонимы, но имеют общее значение 'a building that is used for a specific purpose & is to be used by people'. And while a club is used for social gatherings, a court(house) gathers people for court trials.\n",
    "</br>\n",
    "\n",
    "Оба метода подсчета (Path & Wu-Palmer Similarity) при этом указывают, что 'club' & 'court' семантически ближе друг к другу, чем 'organism' & 'whole', хотя get_dist_sim из задания 5 наоборот оценивал 'organism' & 'whole' как более схожую пару.\n",
    "</br>\n",
    "\n",
    "Интуитивно, 'organism' & 'whole' все-таки более дальние понятия, чем 'club' & 'court'. Это подтверждается методами Wu-Palmer & Path Similarity (and more so by Wu-Palmer).\n",
    "\n"
   ]
  },
  {
   "cell_type": "code",
   "execution_count": null,
   "metadata": {
    "collapsed": true
   },
   "outputs": [],
   "source": []
  }
 ],
 "metadata": {
  "kernelspec": {
   "display_name": "Python 3",
   "language": "python",
   "name": "python3"
  },
  "language_info": {
   "codemirror_mode": {
    "name": "ipython",
    "version": 3
   },
   "file_extension": ".py",
   "mimetype": "text/x-python",
   "name": "python",
   "nbconvert_exporter": "python",
   "pygments_lexer": "ipython3",
   "version": "3.6.1"
  }
 },
 "nbformat": 4,
 "nbformat_minor": 2
}
